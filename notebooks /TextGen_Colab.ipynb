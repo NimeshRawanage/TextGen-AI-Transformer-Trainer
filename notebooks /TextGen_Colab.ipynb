{
  "nbformat": 4,
  "nbformat_minor": 0,
  "metadata": {
    "colab": {
      "provenance": [],
      "authorship_tag": "ABX9TyMMXSms8LVVmfgyesAfrwVZ",
      "include_colab_link": true
    },
    "kernelspec": {
      "name": "python3",
      "display_name": "Python 3"
    },
    "language_info": {
      "name": "python"
    }
  },
  "cells": [
    {
      "cell_type": "markdown",
      "metadata": {
        "id": "view-in-github",
        "colab_type": "text"
      },
      "source": [
        "<a href=\"https://colab.research.google.com/github/NimeshRawanage/TextGen-AI-Transformer-Trainer/blob/main/notebooks/TextGen_Colab.ipynb\" target=\"_parent\"><img src=\"https://colab.research.google.com/assets/colab-badge.svg\" alt=\"Open In Colab\"/></a>"
      ]
    },
    {
      "cell_type": "markdown",
      "source": [
        "# 1️⃣ Setup: Install Dependencies, Mount Google Drive & Clone Your Fork\n",
        "Before running, **make sure to fork this repository to your own GitHub account**:\n",
        "➡️ https://github.com/NimeshRawanage/TextGen-AI-Transformer-Trainer → `Fork`\n",
        "\n",
        "Then replace `YOUR_USERNAME` with your GitHub username in the cloning step below."
      ],
      "metadata": {
        "id": "QAYopxx4x60H"
      }
    },
    {
      "cell_type": "code",
      "source": [
        "# Mount Google Drive to persist model checkpoints and logs\n",
        "from google.colab import drive\n",
        "drive.mount('/content/drive')\n",
      ],
      "metadata": {
        "id": "LQVuS43Jx_oi"
      },
      "execution_count": null,
      "outputs": []
    },
    {
      "cell_type": "code",
      "source": [
        "# Install dependencies\n",
        "!pip install transformers datasets torch\n",
      ],
      "metadata": {
        "id": "LQVuS43Jx_oi"
      },
      "execution_count": null,
      "outputs": []
    },
    {
      "cell_type": "code",
      "source": [
        "# Clone your forked repository (replace YOUR_USERNAME)\n",
        "%cd /content\n",
        "!git clone https://github.com/YOUR_USERNAME/TextGen-AI-Transformer-Trainer.git\n",
        "%cd TextGen-AI-Transformer-Trainer"
      ],
      "metadata": {
        "id": "LQVuS43Jx_oi"
      },
      "execution_count": null,
      "outputs": []
    },
    {
      "cell_type": "markdown",
      "source": [
        "# 2️⃣ Train the Model on Sample Data"
      ],
      "metadata": {
        "id": "5hZqJ31sygrW"
      }
    },
    {
      "cell_type": "code",
      "source": [
        "# Train a GPT-2 model on a sample dataset\n",
        "!python src/train.py --model gpt2 --dataset_path datasets/sample_data.txt --epochs 1 --batch_size 4 --output_dir models/"
      ],
      "metadata": {
        "id": "l5p4njgTyig1"
      },
      "execution_count": null,
      "outputs": []
    },
    {
      "cell_type": "markdown",
      "source": [
        "_Note: You can change `dataset_path`, `epochs`, and `batch_size` as needed._"
      ],
      "metadata": {
        "id": "ek4uqWauyns5"
      }
    },
    {
      "cell_type": "markdown",
      "source": [
        "# 3️⃣ Run Inference (Text Generation)"
      ],
      "metadata": {
        "id": "bn24twJOyy75"
      }
    },
    {
      "cell_type": "code",
      "source": [
        "# Generate text using the trained model\n",
        "!python src/inference.py --model_dir models/gpt2_sample_data --prompt \"The future of AI is\" --max_length 50"
      ],
      "metadata": {
        "id": "bLL5Py0vy0ut"
      },
      "execution_count": null,
      "outputs": []
    },
    {
      "cell_type": "markdown",
      "source": [
        "_This will generate continuation based on the provided prompt._"
      ],
      "metadata": {
        "id": "zvfg37Lny8zp"
      }
    },
    {
      "cell_type": "markdown",
      "source": [
        "# 4️⃣ Interactive Chat Mode"
      ],
      "metadata": {
        "id": "GwQ7JqLjy9mV"
      }
    },
    {
      "cell_type": "code",
      "source": [
        "# Start chat session in Colab\n",
        "!python src/inference.py --model_dir models/gpt2_sample_data --mode chat"
      ],
      "metadata": {
        "id": "_9vJmUA4zBOe"
      },
      "execution_count": null,
      "outputs": []
    },
    {
      "cell_type": "markdown",
      "source": [
        "_This will launch a command-line style chatbot in Colab. Type `exit` to stop._"
      ],
      "metadata": {
        "id": "HndThnwgzJZV"
      }
    }
  ]
}
---

**Author**: Nimesh Rawanage  
AI Engineer & Backend Developer  
**GitHub**: [github.com/NimeshRawanage](https://github.com/NimeshRawanage)  
**LinkedIn**: [linkedin.com/in/nimeshrawanage](https://linkedin.com/in/nimeshrawanage)
