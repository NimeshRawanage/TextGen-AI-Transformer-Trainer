{
  "nbformat": 4,
  "nbformat_minor": 0,
  "metadata": {
    "colab": {
      "provenance": [],
      "authorship_tag": "ABX9TyMMXSms8LVVmfgyesAfrwVZ",
      "include_colab_link": true
    },
    "kernelspec": {
      "name": "python3",
      "display_name": "Python 3"
    },
    "language_info": {
      "name": "python"
    }
  },
  "cells": [
    {
      "cell_type": "markdown",
      "metadata": {
        "id": "view-in-github",
        "colab_type": "text"
      },
      "source": [
        "<a href=\"https://colab.research.google.com/github/NimeshRawanage/TextGen-AI-Transformer-Trainer/blob/main/notebooks/TextGen_Colab.ipynb\" target=\"_parent\"><img src=\"https://colab.research.google.com/assets/colab-badge.svg\" alt=\"Open In Colab\"/></a>"
      ]
    },
    {
      "cell_type": "markdown",
      "metadata": {
        "id": "QAYopxx4x60H"
      },
      "source": [
        "# 1️⃣ Setup: Install Dependencies, Mount Google Drive & Clone Your Fork\n",
        "Before running, **make sure to fork this repository to your own GitHub account**:\n",
        "➡️ https://github.com/NimeshRawanage/TextGen-AI-Transformer-Trainer → `Fork`\n",
        "\n",
        "Then replace `YOUR_USERNAME` with your GitHub username in the cloning step below."
      ]
    },
    {
      "cell_type": "code",
      "metadata": {
        "id": "mount-drive"
      },
      "source": [
        "# Mount Google Drive to persist model checkpoints and logs\n",
        "from google.colab import drive\n",
        "drive.mount('/content/drive')"
      ]
    },
    {
      "cell_type": "code",
      "metadata": {
        "id": "install-deps"
      },
      "source": [
        "# Install dependencies\n",
        "!pip install transformers datasets torch"
      ]
    },
    {
      "cell_type": "code",
      "metadata": {
        "id": "clone-repo"
      },
      "source": [
        "# Clone your forked repository (replace YOUR_USERNAME)\n",
        "%cd /content\n",
        "!git clone https://github.com/YOUR_USERNAME/TextGen-AI-Transformer-Trainer.git\n",
        "%cd TextGen-AI-Transformer-Trainer"
      ]
    },
    {
      "cell_type": "markdown",
      "metadata": {
        "id": "train-heading"
      },
      "source": [
        "# 2️⃣ Train the Model on Sample Data"
      ]
    },
    {
      "cell_type": "code",
      "metadata": {
        "id": "train-code"
      },
      "source": [
        "# Train a GPT-2 model on a sample dataset\n",
        "!python src/train.py --model gpt2 --dataset_path datasets/sample_data.txt --epochs 1 --batch_size 4 --output_dir models/"
      ]
    },
    {
      "cell_type": "markdown",
      "metadata": {
        "id": "train-note"
      },
      "source": [
        "_Note: You can change `dataset_path`, `epochs`, and `batch_size` as needed._"
      ]
    },
    {
      "cell_type": "markdown",
      "metadata": {
        "id": "inference-heading"
      },
      "source": [
        "# 3️⃣ Run Inference (Text Generation)"
      ]
    },
    {
      "cell_type": "code",
      "metadata": {
        "id": "inference-code"
      },
      "source": [
        "# Generate text using the trained model\n",
        "!python src/inference.py --model_dir models/gpt2_sample_data --prompt \"The future of AI is\" --max_length 50"
      ]
    },
    {
      "cell_type": "markdown",
      "metadata": {
        "id": "inference-note"
      },
      "source": [
        "_This will generate continuation based on the provided prompt._"
      ]
    },
    {
      "cell_type": "markdown",
      "metadata": {
        "id": "chat-heading"
      },
      "source": [
        "# 4️⃣ Interactive Chat Mode"
      ]
    },
    {
      "cell_type": "code",
      "metadata": {
        "id": "chat-code"
      },
      "source": [
        "# Start chat session in Colab\n",
        "!python src/inference.py --model_dir models/gpt2_sample_data --mode chat"
      ]
    },
    {
      "cell_type": "markdown",
      "metadata": {
        "id": "chat-note"
      },
      "source": [
        "_This will launch a command-line style chatbot in Colab. Type `exit` to stop._"
      ]
    },
    {
      "cell_type": "markdown",
      "metadata": {
        "id": "author-info"
      },
      "source": [
        "---\n",
        "\n",
        "**Author**: Nimesh Rawanage  \n",
        "AI Engineer & Backend Developer  \n",
        "**GitHub**: [github.com/NimeshRawanage](https://github.com/NimeshRawanage)  \n",
        "**LinkedIn**: [linkedin.com/in/nimeshrawanage](https://linkedin.com/in/nimeshrawanage)"
      ]
    }
  ]
}
