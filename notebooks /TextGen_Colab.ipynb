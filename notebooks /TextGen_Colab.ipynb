{
  "nbformat": 4,
  "nbformat_minor": 0,
  "metadata": {
    "colab": {
      "provenance": [],
      "authorship_tag": "ABX9TyMMXSms8LVVmfgyesAfrwVZ",
      "include_colab_link": true
    },
    "kernelspec": {
      "name": "python3",
      "display_name": "Python 3"
    },
    "language_info": {
      "name": "python"
    }
  },
  "cells": [
    {
      "cell_type": "markdown",
      "metadata": {
        "id": "view-in-github",
        "colab_type": "text"
      },
      "source": [
        "<a href=\"https://colab.research.google.com/github/NimeshRawanage/TextGen-AI-Transformer-Trainer/blob/main/notebooks%20/TextGen_Colab.ipynb\" target=\"_parent\"><img src=\"https://colab.research.google.com/assets/colab-badge.svg\" alt=\"Open In Colab\"/></a>"
      ]
    },
    {
      "cell_type": "markdown",
      "source": [
        "1️⃣ Setup: Install Dependencies, Clone Repo & Mount Google Drive"
      ],
      "metadata": {
        "id": "QAYopxx4x60H"
      }
    },
    {
      "cell_type": "code",
      "source": [
        "# ✅ Mount Google Drive for persistent storage\n",
        "from google.colab import drive\n",
        "drive.mount('/content/drive')\n",
        "\n",
        "# ✅ Install required libraries\n",
        "!pip install transformers datasets torch\n",
        "\n",
        "# ✅ Clone the repository (if not already cloned)\n",
        "%cd /content  # Ensure we are in the correct root directory\n",
        "!git clone https://github.com/YOUR_USERNAME/YOUR_REPO.git\n",
        "%cd YOUR_REPO  # Set working directory to the cloned repo"
      ],
      "metadata": {
        "id": "LQVuS43Jx_oi"
      },
      "execution_count": null,
      "outputs": []
    },
    {
      "cell_type": "markdown",
      "source": [
        "Replace YOUR_USERNAME and YOUR_REPO with your actual GitHub username and repository name."
      ],
      "metadata": {
        "id": "HLdUM6AjyZzS"
      }
    },
    {
      "cell_type": "markdown",
      "source": [
        "2️⃣ Load and Train the Model"
      ],
      "metadata": {
        "id": "5hZqJ31sygrW"
      }
    },
    {
      "cell_type": "code",
      "source": [
        "# Train a GPT-2 model using a sample dataset\n",
        "!python src/train.py --model gpt2 --dataset_path datasets/sample_data.txt --epochs 1 --batch_size 4 --output_dir models/"
      ],
      "metadata": {
        "id": "l5p4njgTyig1"
      },
      "execution_count": null,
      "outputs": []
    },
    {
      "cell_type": "markdown",
      "source": [
        "Adjust --dataset_path and other parameters as needed."
      ],
      "metadata": {
        "id": "ek4uqWauyns5"
      }
    },
    {
      "cell_type": "markdown",
      "source": [
        "3️⃣ Perform Inference (Text Generation)"
      ],
      "metadata": {
        "id": "bn24twJOyy75"
      }
    },
    {
      "cell_type": "markdown",
      "source": [],
      "metadata": {
        "id": "rSx9bQYDy4yA"
      }
    },
    {
      "cell_type": "code",
      "source": [
        "# Run inference to generate text\n",
        "!python src/inference.py --model_dir models/gpt2_sample_data --prompt \"The future of AI is\" --max_length 50"
      ],
      "metadata": {
        "id": "bLL5Py0vy0ut"
      },
      "execution_count": null,
      "outputs": []
    },
    {
      "cell_type": "markdown",
      "source": [
        "This will generate text based on a given prompt."
      ],
      "metadata": {
        "id": "zvfg37Lny8zp"
      }
    },
    {
      "cell_type": "markdown",
      "source": [
        "4️⃣ Run Chat Mode"
      ],
      "metadata": {
        "id": "GwQ7JqLjy9mV"
      }
    },
    {
      "cell_type": "code",
      "source": [
        "# Launch interactive chatbot mode\n",
        "!python src/inference.py --model_dir models/gpt2_sample_data --mode chat"
      ],
      "metadata": {
        "id": "_9vJmUA4zBOe"
      },
      "execution_count": null,
      "outputs": []
    },
    {
      "cell_type": "markdown",
      "source": [
        "You will be able to chat with the model in Colab."
      ],
      "metadata": {
        "id": "HndThnwgzJZV"
      }
    }
  ]
}